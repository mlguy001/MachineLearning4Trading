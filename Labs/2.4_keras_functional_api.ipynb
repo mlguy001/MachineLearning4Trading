{
 "cells": [
  {
   "cell_type": "markdown",
   "metadata": {},
   "source": [
    "# Introducing the Keras Functional API\n",
    "\n",
    "**Learning Objectives**\n",
    "  1. Understand embeddings and how to create them with the feature column API\n",
    "  1. Understand Deep and Wide models and when to use them\n",
    "  1. Understand the Keras functional API and how to build a deep and wide model with it\n",
    "\n",
    "## Introduction\n",
    "\n",
    "In the last notebook, we learned about the Keras Sequential API. The [Keras Functional API](https://www.tensorflow.org/guide/keras#functional_api) provides an alternate way of building models which is more flexible. With the Functional API, we can build models with more complex topologies, multiple input or output layers, shared layers or non-sequential data flows (e.g. residual layers).\n",
    "\n",
    "In this notebook we'll use what we learned about feature columns to build a Wide & Deep model. Recall, that the idea behind Wide & Deep models is to join the two methods of learning through memorization and generalization by making a wide linear model and a deep learning model to accommodate both. You can have a look at the original research paper here: [Wide & Deep Learning for Recommender Systems](https://arxiv.org/abs/1606.07792).\n",
    "\n",
    "<img src='assets/wide_deep.png' width='80%'>\n",
    "<sup>(image: https://ai.googleblog.com/2016/06/wide-deep-learning-better-together-with.html)</sup>\n",
    "\n",
    "The Wide part of the model is associated with the memory element. In this case, we train a linear model with a wide set of crossed features and learn the correlation of this related data with the assigned label. The Deep part of the model is associated with the generalization element where we use embedding vectors for features. The best embeddings are then learned through the training process. While both of these methods can work well alone, Wide & Deep models excel by combining these techniques together. "
   ]
  },
  {
   "cell_type": "code",
   "execution_count": 1,
   "metadata": {},
   "outputs": [],
   "source": [
    "# Use the chown command to change the ownership of the repository.\n",
    "!sudo chown -R jupyter:jupyter /home/jupyter/training-data-analyst"
   ]
  },
  {
   "cell_type": "code",
   "execution_count": null,
   "metadata": {},
   "outputs": [],
   "source": [
    "# Ensure the right version of Tensorflow is installed.\n",
    "!pip freeze | grep tensorflow==2.3 || pip install tensorflow==2.3"
   ]
  },
  {
   "cell_type": "markdown",
   "metadata": {},
   "source": [
    "Kindly ignore the deprecation warnings and incompatibility errors."
   ]
  },
  {
   "cell_type": "markdown",
   "metadata": {},
   "source": [
    "Start by importing the necessary libraries for this lab."
   ]
  },
  {
   "cell_type": "code",
   "execution_count": 3,
   "metadata": {},
   "outputs": [
    {
     "name": "stdout",
     "output_type": "stream",
     "text": [
      "2.3.0\n"
     ]
    }
   ],
   "source": [
    "# Importing necessary modules/libraries such as numpy, pandas and datetime.\n",
    "import datetime\n",
    "import os\n",
    "import shutil\n",
    "\n",
    "import numpy as np\n",
    "import pandas as pd\n",
    "import tensorflow as tf\n",
    "\n",
    "from matplotlib import pyplot as plt\n",
    "from tensorflow import keras\n",
    "\n",
    "from tensorflow import feature_column as fc\n",
    "\n",
    "from tensorflow.keras import Model\n",
    "from tensorflow.keras.layers import (\n",
    "    Input, Dense, DenseFeatures, concatenate)\n",
    "from tensorflow.keras.callbacks import TensorBoard\n",
    "\n",
    "print(tf.__version__)"
   ]
  },
  {
   "cell_type": "code",
   "execution_count": 4,
   "metadata": {},
   "outputs": [],
   "source": [
    "# It sets the backend of matplotlib to the 'inline' backend. The output of plotting commands is displayed inline within frontends, directly\n",
    "# below the code cell that produced it. The resulting plots will then also be stored in the notebook document.\n",
    "%matplotlib inline"
   ]
  },
  {
   "cell_type": "markdown",
   "metadata": {},
   "source": [
    "## Load raw data \n",
    "\n",
    "We will use the taxifare dataset, using the CSV files that we created in the first notebook of this sequence. Those files have been saved into `../data`."
   ]
  },
  {
   "cell_type": "code",
   "execution_count": 5,
   "metadata": {},
   "outputs": [
    {
     "name": "stdout",
     "output_type": "stream",
     "text": [
      "-rw-r--r-- 1 jupyter jupyter 123590 Nov 24 17:10 ../data/taxi-test.csv\n",
      "-rw-r--r-- 1 jupyter jupyter 579055 Nov 24 17:10 ../data/taxi-train.csv\n",
      "-rw-r--r-- 1 jupyter jupyter 123114 Nov 24 17:10 ../data/taxi-valid.csv\n"
     ]
    }
   ],
   "source": [
    "!ls -l ../data/*.csv"
   ]
  },
  {
   "cell_type": "markdown",
   "metadata": {},
   "source": [
    "## Use tf.data to read the CSV files\n",
    "\n",
    "We wrote these functions for reading data from the csv files above in the [previous notebook](2_dataset_api.ipynb). For this lab we will also include some additional engineered features in our model. In particular, we will compute the difference in latitude and longitude, as well as the Euclidean distance between the pick-up and drop-off locations. We can accomplish this by adding these new features to the features dictionary with the function `add_engineered_features` below. \n",
    "\n",
    "Note that we include a call to this function when collecting our features dict and labels in the `features_and_labels` function below as well. "
   ]
  },
  {
   "cell_type": "code",
   "execution_count": 6,
   "metadata": {},
   "outputs": [],
   "source": [
    "# Selecting specific CSV_COLUMNS, LABEL_COLUMN, DEFAULTS, UNWANTED_COLS.\n",
    "CSV_COLUMNS = [\n",
    "    'fare_amount',\n",
    "    'pickup_datetime',\n",
    "    'pickup_longitude',\n",
    "    'pickup_latitude',\n",
    "    'dropoff_longitude',\n",
    "    'dropoff_latitude',\n",
    "    'passenger_count',\n",
    "    'key'\n",
    "]\n",
    "LABEL_COLUMN = 'fare_amount'\n",
    "DEFAULTS = [[0.0], ['na'], [0.0], [0.0], [0.0], [0.0], [0.0], ['na']]\n",
    "UNWANTED_COLS = ['pickup_datetime', 'key']\n",
    "\n",
    "\n",
    "# Create an input function reading a file using the Dataset API\n",
    "def features_and_labels(row_data):\n",
    "    label = row_data.pop(LABEL_COLUMN)\n",
    "    features = row_data\n",
    "        \n",
    "    for unwanted_col in UNWANTED_COLS:\n",
    "        features.pop(unwanted_col)\n",
    "\n",
    "    return features, label\n",
    "\n",
    "\n",
    "# Reading CSV files into a dataset.\n",
    "def create_dataset(pattern, batch_size=1, mode='eval'):\n",
    "    dataset = tf.data.experimental.make_csv_dataset(\n",
    "        pattern, batch_size, CSV_COLUMNS, DEFAULTS)\n",
    "\n",
    "    dataset = dataset.map(features_and_labels)\n",
    "    \n",
    "    if mode == 'train':\n",
    "        dataset = dataset.shuffle(buffer_size=1000).repeat()\n",
    "\n",
    "    # take advantage of multi-threading; 1=AUTOTUNE\n",
    "    dataset = dataset.prefetch(1)\n",
    "    return dataset"
   ]
  },
  {
   "cell_type": "markdown",
   "metadata": {},
   "source": [
    "## Feature columns for Wide and Deep model\n",
    "\n",
    "For the Wide columns, we will create feature columns of crossed features. To do this, we'll create a collection of Tensorflow feature columns to pass to the `tf.feature_column.crossed_column` constructor. The Deep columns will consist of numeric columns and the embedding columns we want to create. "
   ]
  },
  {
   "cell_type": "code",
   "execution_count": 7,
   "metadata": {},
   "outputs": [],
   "source": [
    "# TODO 1\n",
    "\n",
    "# 1. Bucketize latitudes and longitudes\n",
    "NBUCKETS = 16\n",
    "latbuckets = np.linspace(start=38.0, stop=42.0, num=NBUCKETS).tolist()\n",
    "lonbuckets = np.linspace(start=-76.0, stop=-72.0, num=NBUCKETS).tolist()\n",
    "\n",
    "fc_bucketized_plat = fc.bucketized_column(\n",
    "    source_column=fc.numeric_column(\"pickup_longitude\"), boundaries=lonbuckets)\n",
    "fc_bucketized_plon = fc.bucketized_column(\n",
    "    source_column=fc.numeric_column(\"pickup_latitude\"), boundaries=latbuckets)\n",
    "fc_bucketized_dlat = fc.bucketized_column(\n",
    "    source_column=fc.numeric_column(\"dropoff_longitude\"), boundaries=lonbuckets)\n",
    "fc_bucketized_dlon = fc.bucketized_column(\n",
    "    source_column=fc.numeric_column(\"dropoff_latitude\"), boundaries=latbuckets)\n",
    "\n",
    "# 2. Cross features for locations\n",
    "fc_crossed_dloc = fc.crossed_column(\n",
    "    [fc_bucketized_dlat, fc_bucketized_dlon],\n",
    "    hash_bucket_size=NBUCKETS * NBUCKETS)\n",
    "fc_crossed_ploc = fc.crossed_column(\n",
    "    [fc_bucketized_plat, fc_bucketized_plon],\n",
    "    hash_bucket_size=NBUCKETS * NBUCKETS)\n",
    "fc_crossed_pd_pair = fc.crossed_column(\n",
    "    [fc_crossed_dloc, fc_crossed_ploc],\n",
    "    hash_bucket_size=NBUCKETS**4)\n",
    "\n",
    "# 3. Create embedding columns for the crossed columns\n",
    "fc_pd_pair = fc.embedding_column(categorical_column=fc_crossed_pd_pair, dimension=3)\n",
    "fc_dloc = fc.embedding_column(categorical_column=fc_crossed_dloc, dimension=3)\n",
    "fc_ploc = fc.embedding_column(categorical_column=fc_crossed_ploc, dimension=3)"
   ]
  },
  {
   "cell_type": "markdown",
   "metadata": {},
   "source": [
    "### Gather list of feature columns\n",
    "\n",
    "Next we gather the list of wide and deep feature columns we'll pass to our Wide & Deep model in Tensorflow. Recall, wide columns are sparse, have linear relationship with the output while continuous columns are deep, have a complex relationship with the output. We will use our previously bucketized columns to collect crossed feature columns and sparse feature columns for our wide columns, and embedding feature columns and numeric features columns for the deep columns."
   ]
  },
  {
   "cell_type": "code",
   "execution_count": 8,
   "metadata": {},
   "outputs": [],
   "source": [
    "# TODO 2\n",
    "wide_columns = [\n",
    "    # One-hot encoded feature crosses\n",
    "    fc.indicator_column(fc_crossed_dloc),\n",
    "    fc.indicator_column(fc_crossed_ploc),\n",
    "    fc.indicator_column(fc_crossed_pd_pair)\n",
    "]\n",
    "\n",
    "deep_columns = [\n",
    "    # Embedding_column to \"group\" together ...\n",
    "    fc.embedding_column(fc_crossed_pd_pair, dimension=10),\n",
    "\n",
    "    # Numeric columns\n",
    "    fc.numeric_column(\"pickup_latitude\"),\n",
    "    fc.numeric_column(\"pickup_longitude\"),\n",
    "    fc.numeric_column(\"dropoff_longitude\"),\n",
    "    fc.numeric_column(\"dropoff_latitude\")\n",
    "]"
   ]
  },
  {
   "cell_type": "markdown",
   "metadata": {},
   "source": [
    "## Build a Wide and Deep model in Keras\n",
    "\n",
    "To build a wide-and-deep network, we connect the sparse (i.e. wide) features directly to the output node, but pass the dense (i.e. deep) features through a set of fully connected layers. Here’s that model architecture looks using the Functional API.\n",
    "\n",
    "First, we'll create our input columns using [tf.keras.layers.Input](https://www.tensorflow.org/versions/r2.0/api_docs/python/tf/keras/Input)."
   ]
  },
  {
   "cell_type": "code",
   "execution_count": 9,
   "metadata": {},
   "outputs": [],
   "source": [
    "INPUT_COLS = [\n",
    "    'pickup_longitude',\n",
    "    'pickup_latitude',\n",
    "    'dropoff_longitude',\n",
    "    'dropoff_latitude',\n",
    "    'passenger_count'\n",
    "]\n",
    "\n",
    "inputs = {colname : Input(name=colname, shape=(), dtype='float32')\n",
    "          for colname in INPUT_COLS\n",
    "}"
   ]
  },
  {
   "cell_type": "markdown",
   "metadata": {},
   "source": [
    "Then, we'll define our custom RMSE evaluation metric and build our wide and deep model."
   ]
  },
  {
   "cell_type": "code",
   "execution_count": 10,
   "metadata": {},
   "outputs": [],
   "source": [
    "# Here, tf.reduce_mean computes the mean of elements across dimensions of a tensor.\n",
    "# tf.sqrt Computes element-wise square root of the input tensor.\n",
    "# tf.square computes square of x element-wise.\n",
    "def rmse(y_true, y_pred):\n",
    "    return tf.sqrt(tf.reduce_mean(tf.square(y_pred - y_true)))\n",
    "\n",
    "# TODO 3\n",
    "def build_model(dnn_hidden_units):\n",
    "    # Create the deep part of model\n",
    "    deep = DenseFeatures(deep_columns, name='deep_inputs')(inputs)\n",
    "    for num_nodes in dnn_hidden_units:\n",
    "        deep = Dense(num_nodes, activation='relu')(deep) \n",
    "\n",
    "    # Create the wide part of model\n",
    "    wide = DenseFeatures(wide_columns, name='wide_inputs')(inputs)\n",
    "\n",
    "    # Combine deep and wide parts of the model\n",
    "    combined = concatenate(inputs=[deep, wide], name='combined')\n",
    "\n",
    "    # Map the combined outputs into a single prediction value\n",
    "    output = Dense(units=1, activation=None, name='prediction')(combined)\n",
    "    \n",
    "    # Finalize the model\n",
    "    model = Model(inputs=list(inputs.values()), outputs=output)\n",
    "\n",
    "    # Compile the keras model\n",
    "    model.compile(optimizer=\"adam\", loss=\"mse\", metrics=[rmse, \"mse\"])\n",
    "    \n",
    "    return model"
   ]
  },
  {
   "cell_type": "markdown",
   "metadata": {},
   "source": [
    "Next, we can call the `build_model` to create the model. Here we'll have two hidden layers, each with 10 neurons, for the deep part of our model. We can also use `plot_model` to see a diagram of the model we've created."
   ]
  },
  {
   "cell_type": "code",
   "execution_count": 11,
   "metadata": {},
   "outputs": [
    {
     "data": {
      "image/png": "[encoded data removed]",
      "text/plain": [
       "<IPython.core.display.Image object>"
      ]
     },
     "execution_count": 11,
     "metadata": {},
     "output_type": "execute_result"
    }
   ],
   "source": [
    "HIDDEN_UNITS = [10,10]\n",
    "\n",
    "# Calling the build model\n",
    "model = build_model(dnn_hidden_units=HIDDEN_UNITS)\n",
    "\n",
    "# Converts a Keras plot_model to see a diagram of the model that we have created.\n",
    "tf.keras.utils.plot_model(model, show_shapes=False, rankdir='LR')"
   ]
  },
  {
   "cell_type": "markdown",
   "metadata": {},
   "source": [
    "Next, we'll set up our training variables, create our datasets for training and validation, and train our model.\n",
    "\n",
    "(We refer you the the blog post [ML Design Pattern #3: Virtual Epochs](https://medium.com/google-cloud/ml-design-pattern-3-virtual-epochs-f842296de730) for further details on why express the training in terms of `NUM_TRAIN_EXAMPLES` and `NUM_EVALS` and why, in this training code, the number of epochs is really equal to the number of evaluations we perform.)"
   ]
  },
  {
   "cell_type": "code",
   "execution_count": 12,
   "metadata": {},
   "outputs": [],
   "source": [
    "BATCH_SIZE = 1000\n",
    "NUM_TRAIN_EXAMPLES = 10000 * 5  # training dataset will repeat, wrap around\n",
    "NUM_EVALS = 50  # how many times to evaluate\n",
    "NUM_EVAL_EXAMPLES = 10000  # enough to get a reasonable sample\n",
    "\n",
    "trainds = create_dataset(\n",
    "    pattern='../data/taxi-train*',\n",
    "    batch_size=BATCH_SIZE,\n",
    "    mode='train')\n",
    "\n",
    "evalds = create_dataset(\n",
    "    pattern='../data/taxi-valid*',\n",
    "    batch_size=BATCH_SIZE,\n",
    "    mode='eval').take(NUM_EVAL_EXAMPLES//1000)"
   ]
  },
  {
   "cell_type": "code",
   "execution_count": null,
   "metadata": {},
   "outputs": [
    {
     "name": "stdout",
     "output_type": "stream",
     "text": [
      "Epoch 1/50\n",
      "1/1 [==============================] - 2s 2s/step - loss: 221.7932 - rmse: 14.8927 - mse: 221.7932 - val_loss: 249.6180 - val_rmse: 15.7970 - val_mse: 249.6180\n",
      "Epoch 2/50\n",
      "WARNING:tensorflow:From /opt/conda/lib/python3.7/site-packages/tensorflow/python/ops/summary_ops_v2.py:1277: stop (from tensorflow.python.eager.profiler) is deprecated and will be removed after 2020-07-01.\n",
      "Instructions for updating:\n",
      "use `tf.profiler.experimental.stop` instead.\n",
      "1/1 [==============================] - 2s 2s/step - loss: 204.2403 - rmse: 14.2913 - mse: 204.2403 - val_loss: 246.5794 - val_rmse: 15.6959 - val_mse: 246.5794\n",
      "Epoch 3/50\n",
      "1/1 [==============================] - 2s 2s/step - loss: 220.0615 - rmse: 14.8345 - mse: 220.0615 - val_loss: 247.9240 - val_rmse: 15.7354 - val_mse: 247.9240\n",
      "Epoch 4/50\n",
      "1/1 [==============================] - 2s 2s/step - loss: 209.5319 - rmse: 14.4752 - mse: 209.5319 - val_loss: 243.8420 - val_rmse: 15.6044 - val_mse: 243.8420\n",
      "Epoch 5/50\n",
      "1/1 [==============================] - 2s 2s/step - loss: 204.4983 - rmse: 14.3003 - mse: 204.4983 - val_loss: 247.3995 - val_rmse: 15.7261 - val_mse: 247.3995\n",
      "Epoch 6/50\n",
      "1/1 [==============================] - 2s 2s/step - loss: 262.4482 - rmse: 16.2003 - mse: 262.4482 - val_loss: 244.8855 - val_rmse: 15.6347 - val_mse: 244.8855\n",
      "Epoch 7/50\n",
      "1/1 [==============================] - 2s 2s/step - loss: 200.5535 - rmse: 14.1617 - mse: 200.5535 - val_loss: 243.6102 - val_rmse: 15.6022 - val_mse: 243.6102\n",
      "Epoch 8/50\n",
      "1/1 [==============================] - 2s 2s/step - loss: 193.4317 - rmse: 13.9080 - mse: 193.4317 - val_loss: 245.1875 - val_rmse: 15.6520 - val_mse: 245.1875\n",
      "Epoch 9/50\n",
      "1/1 [==============================] - 2s 2s/step - loss: 245.9053 - rmse: 15.6814 - mse: 245.9053 - val_loss: 241.0723 - val_rmse: 15.5170 - val_mse: 241.0723\n",
      "Epoch 10/50\n",
      "1/1 [==============================] - 2s 2s/step - loss: 219.7825 - rmse: 14.8251 - mse: 219.7825 - val_loss: 240.0879 - val_rmse: 15.4892 - val_mse: 240.0879\n",
      "Epoch 11/50\n",
      "1/1 [==============================] - 2s 2s/step - loss: 238.8725 - rmse: 15.4555 - mse: 238.8725 - val_loss: 240.1909 - val_rmse: 15.4939 - val_mse: 240.1909\n",
      "Epoch 12/50\n",
      "1/1 [==============================] - 2s 2s/step - loss: 203.6124 - rmse: 14.2693 - mse: 203.6124 - val_loss: 239.4588 - val_rmse: 15.4668 - val_mse: 239.4588\n",
      "Epoch 13/50\n",
      "1/1 [==============================] - 2s 2s/step - loss: 196.9522 - rmse: 14.0340 - mse: 196.9522 - val_loss: 239.5561 - val_rmse: 15.4620 - val_mse: 239.5561\n",
      "Epoch 14/50\n",
      "1/1 [==============================] - 2s 2s/step - loss: 211.2030 - rmse: 14.5328 - mse: 211.2030 - val_loss: 240.5648 - val_rmse: 15.4955 - val_mse: 240.5648\n",
      "Epoch 15/50\n",
      "1/1 [==============================] - 2s 2s/step - loss: 158.0282 - rmse: 12.5709 - mse: 158.0282 - val_loss: 235.7939 - val_rmse: 15.3347 - val_mse: 235.7939\n",
      "Epoch 16/50\n",
      "1/1 [==============================] - 2s 2s/step - loss: 221.9925 - rmse: 14.8994 - mse: 221.9925 - val_loss: 236.2241 - val_rmse: 15.3538 - val_mse: 236.2241\n",
      "Epoch 17/50\n",
      "1/1 [==============================] - 2s 2s/step - loss: 227.3279 - rmse: 15.0774 - mse: 227.3279 - val_loss: 236.5672 - val_rmse: 15.3772 - val_mse: 236.5672\n",
      "Epoch 18/50\n",
      "1/1 [==============================] - 2s 2s/step - loss: 199.8198 - rmse: 14.1358 - mse: 199.8198 - val_loss: 235.0269 - val_rmse: 15.3165 - val_mse: 235.0269\n",
      "Epoch 19/50\n",
      "1/1 [==============================] - 2s 2s/step - loss: 188.8463 - rmse: 13.7421 - mse: 188.8463 - val_loss: 231.7622 - val_rmse: 15.2206 - val_mse: 231.7622\n",
      "Epoch 20/50\n",
      "1/1 [==============================] - 2s 2s/step - loss: 229.5921 - rmse: 15.1523 - mse: 229.5921 - val_loss: 231.9322 - val_rmse: 15.2204 - val_mse: 231.9322\n",
      "Epoch 21/50\n",
      "1/1 [==============================] - 2s 2s/step - loss: 221.7902 - rmse: 14.8926 - mse: 221.7902 - val_loss: 226.8272 - val_rmse: 15.0534 - val_mse: 226.8272\n",
      "Epoch 22/50\n",
      "1/1 [==============================] - 2s 2s/step - loss: 195.9433 - rmse: 13.9980 - mse: 195.9433 - val_loss: 230.2394 - val_rmse: 15.1659 - val_mse: 230.2394\n",
      "Epoch 23/50\n",
      "1/1 [==============================] - 2s 2s/step - loss: 195.3299 - rmse: 13.9760 - mse: 195.3299 - val_loss: 225.9979 - val_rmse: 15.0208 - val_mse: 225.9979\n",
      "Epoch 24/50\n",
      "1/1 [==============================] - 2s 2s/step - loss: 213.1390 - rmse: 14.5993 - mse: 213.1390 - val_loss: 223.3565 - val_rmse: 14.9369 - val_mse: 223.3565\n",
      "Epoch 25/50\n",
      "1/1 [==============================] - 2s 2s/step - loss: 197.3048 - rmse: 14.0465 - mse: 197.3048 - val_loss: 223.7691 - val_rmse: 14.9548 - val_mse: 223.7691\n",
      "Epoch 26/50\n",
      "1/1 [==============================] - 2s 2s/step - loss: 182.6163 - rmse: 13.5136 - mse: 182.6163 - val_loss: 220.7082 - val_rmse: 14.8494 - val_mse: 220.7082\n",
      "Epoch 27/50\n",
      "1/1 [==============================] - 2s 2s/step - loss: 187.3002 - rmse: 13.6858 - mse: 187.3002 - val_loss: 222.3647 - val_rmse: 14.9041 - val_mse: 222.3647\n",
      "Epoch 28/50\n",
      "1/1 [==============================] - 2s 2s/step - loss: 195.0936 - rmse: 13.9676 - mse: 195.0936 - val_loss: 216.8653 - val_rmse: 14.7215 - val_mse: 216.8653\n",
      "Epoch 29/50\n",
      "1/1 [==============================] - 2s 2s/step - loss: 202.5973 - rmse: 14.2337 - mse: 202.5973 - val_loss: 214.4661 - val_rmse: 14.6371 - val_mse: 214.4661\n",
      "Epoch 30/50\n",
      "1/1 [==============================] - 2s 2s/step - loss: 183.2553 - rmse: 13.5372 - mse: 183.2553 - val_loss: 214.5060 - val_rmse: 14.6356 - val_mse: 214.5060\n",
      "Epoch 31/50\n",
      "1/1 [==============================] - 2s 2s/step - loss: 194.6563 - rmse: 13.9519 - mse: 194.6563 - val_loss: 212.3979 - val_rmse: 14.5542 - val_mse: 212.3979\n",
      "Epoch 32/50\n",
      "1/1 [==============================] - 2s 2s/step - loss: 178.2747 - rmse: 13.3520 - mse: 178.2747 - val_loss: 211.3038 - val_rmse: 14.5315 - val_mse: 211.3038\n",
      "Epoch 33/50\n",
      "1/1 [==============================] - 2s 2s/step - loss: 171.1079 - rmse: 13.0808 - mse: 171.1079 - val_loss: 207.8051 - val_rmse: 14.4069 - val_mse: 207.8051\n",
      "Epoch 34/50\n",
      "1/1 [==============================] - 2s 2s/step - loss: 194.0520 - rmse: 13.9303 - mse: 194.0520 - val_loss: 205.8756 - val_rmse: 14.3395 - val_mse: 205.8756\n",
      "Epoch 35/50\n",
      "1/1 [==============================] - 2s 2s/step - loss: 177.9960 - rmse: 13.3415 - mse: 177.9960 - val_loss: 200.8790 - val_rmse: 14.1695 - val_mse: 200.8790\n",
      "Epoch 36/50\n",
      "1/1 [==============================] - 2s 2s/step - loss: 168.2521 - rmse: 12.9712 - mse: 168.2521 - val_loss: 203.7528 - val_rmse: 14.2689 - val_mse: 203.7528\n",
      "Epoch 37/50\n",
      "1/1 [==============================] - 2s 2s/step - loss: 198.5123 - rmse: 14.0894 - mse: 198.5123 - val_loss: 197.9908 - val_rmse: 14.0589 - val_mse: 197.9908\n",
      "Epoch 38/50\n",
      "1/1 [==============================] - 2s 2s/step - loss: 190.2132 - rmse: 13.7918 - mse: 190.2132 - val_loss: 195.5044 - val_rmse: 13.9749 - val_mse: 195.5044\n",
      "Epoch 39/50\n",
      "1/1 [==============================] - 2s 2s/step - loss: 156.8890 - rmse: 12.5255 - mse: 156.8890 - val_loss: 192.5429 - val_rmse: 13.8619 - val_mse: 192.5429\n",
      "Epoch 40/50\n",
      "1/1 [==============================] - 2s 2s/step - loss: 148.5991 - rmse: 12.1901 - mse: 148.5991 - val_loss: 189.0073 - val_rmse: 13.7391 - val_mse: 189.0073\n",
      "Epoch 41/50\n",
      "1/1 [==============================] - 2s 2s/step - loss: 142.6111 - rmse: 11.9420 - mse: 142.6111 - val_loss: 186.7474 - val_rmse: 13.6443 - val_mse: 186.7474\n",
      "Epoch 42/50\n",
      "1/1 [==============================] - 2s 2s/step - loss: 169.7418 - rmse: 13.0285 - mse: 169.7418 - val_loss: 183.8319 - val_rmse: 13.5477 - val_mse: 183.8319\n",
      "Epoch 43/50\n",
      "1/1 [==============================] - 2s 2s/step - loss: 185.6414 - rmse: 13.6250 - mse: 185.6414 - val_loss: 181.0617 - val_rmse: 13.4430 - val_mse: 181.0617\n",
      "Epoch 44/50\n",
      "1/1 [==============================] - 2s 2s/step - loss: 149.1864 - rmse: 12.2142 - mse: 149.1864 - val_loss: 180.4352 - val_rmse: 13.4137 - val_mse: 180.4352\n",
      "Epoch 45/50\n",
      "1/1 [==============================] - 2s 2s/step - loss: 150.2911 - rmse: 12.2593 - mse: 150.2911 - val_loss: 175.4278 - val_rmse: 13.2277 - val_mse: 175.4278\n",
      "Epoch 46/50\n",
      "1/1 [==============================] - 2s 2s/step - loss: 185.9345 - rmse: 13.6358 - mse: 185.9345 - val_loss: 173.6673 - val_rmse: 13.1617 - val_mse: 173.6673\n",
      "Epoch 47/50\n",
      "1/1 [==============================] - 2s 2s/step - loss: 136.5035 - rmse: 11.6835 - mse: 136.5035 - val_loss: 171.1984 - val_rmse: 13.0761 - val_mse: 171.1984\n",
      "Epoch 48/50\n",
      "1/1 [==============================] - 2s 2s/step - loss: 133.0260 - rmse: 11.5337 - mse: 133.0260 - val_loss: 167.9528 - val_rmse: 12.9434 - val_mse: 167.9528\n",
      "Epoch 49/50\n",
      "1/1 [==============================] - 2s 2s/step - loss: 122.8414 - rmse: 11.0834 - mse: 122.8414 - val_loss: 162.5867 - val_rmse: 12.7341 - val_mse: 162.5867\n",
      "Epoch 50/50\n",
      "1/1 [==============================] - ETA: 0s - loss: 133.7689 - rmse: 11.5659 - mse: 133.7689"
     ]
    }
   ],
   "source": [
    "%%time\n",
    "# Here, %%time prints the wall time for the entire cell\n",
    "steps_per_epoch = NUM_TRAIN_EXAMPLES // (BATCH_SIZE * NUM_EVALS)\n",
    "\n",
    "OUTDIR = \"./taxi_trained\"\n",
    "shutil.rmtree(path=OUTDIR, ignore_errors=True) # start fresh each time\n",
    "\n",
    "history = model.fit(x=trainds,\n",
    "                    steps_per_epoch=steps_per_epoch,\n",
    "                    epochs=NUM_EVALS,\n",
    "                    validation_data=evalds,\n",
    "                    callbacks=[TensorBoard(OUTDIR)])"
   ]
  },
  {
   "cell_type": "markdown",
   "metadata": {},
   "source": [
    "Just as before, we can examine the history to see how the RMSE changes through training on the train set and validation set. "
   ]
  },
  {
   "cell_type": "code",
   "execution_count": null,
   "metadata": {},
   "outputs": [],
   "source": [
    "RMSE_COLS = ['rmse', 'val_rmse']\n",
    "\n",
    "# Pandas DataFrame is two-dimensional size-mutable, potentially heterogeneous tabular data structure with labeled axes (rows and columns).\n",
    "pd.DataFrame(history.history)[RMSE_COLS].plot()"
   ]
  },
  {
   "cell_type": "markdown",
   "metadata": {},
   "source": [
    "Copyright 2019 Google Inc. Licensed under the Apache License, Version 2.0 (the \"License\"); you may not use this file except in compliance with the License. You may obtain a copy of the License at http://www.apache.org/licenses/LICENSE-2.0 Unless required by applicable law or agreed to in writing, software distributed under the License is distributed on an \"AS IS\" BASIS, WITHOUT WARRANTIES OR CONDITIONS OF ANY KIND, either express or implied. See the License for the specific language governing permissions and limitations under the License"
   ]
  },
  {
   "cell_type": "code",
   "execution_count": null,
   "metadata": {},
   "outputs": [],
   "source": []
  }
 ],
 "metadata": {
  "environment": {
   "name": "tf2-2-3-gpu.2-3.m59",
   "type": "gcloud",
   "uri": "gcr.io/deeplearning-platform-release/tf2-2-3-gpu.2-3:m59"
  },
  "kernelspec": {
   "display_name": "Python 3",
   "language": "python",
   "name": "python3"
  },
  "language_info": {
   "codemirror_mode": {
    "name": "ipython",
    "version": 3
   },
   "file_extension": ".py",
   "mimetype": "text/x-python",
   "name": "python",
   "nbconvert_exporter": "python",
   "pygments_lexer": "ipython3",
   "version": "3.7.8"
  }
 },
 "nbformat": 4,
 "nbformat_minor": 4
}
